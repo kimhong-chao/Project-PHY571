{
 "cells": [
  {
   "cell_type": "markdown",
   "metadata": {},
   "source": [
    "# Observation of diffraction effect \n",
    "\n",
    "The physical model used to describe this effect :\n",
    "\n",
    "\\begin{equation}\n",
    "    \\frac{\\partial E}{\\partial z} = \\frac{i}{2k}\\nabla^2_{\\bot}E\n",
    "\\end{equation}\n",
    "\n",
    "We use spectral method to solve this equation numerically, so in order to verify the numerical solution, we compare the solution with analytic solution :\n",
    "\n"
   ]
  },
  {
   "cell_type": "code",
   "execution_count": 1,
   "metadata": {
    "scrolled": false
   },
   "outputs": [
    {
     "ename": "IndexError",
     "evalue": "index 10 is out of bounds for axis 0 with size 10",
     "output_type": "error",
     "traceback": [
      "\u001b[1;31m---------------------------------------------------------------------------\u001b[0m",
      "\u001b[1;31mIndexError\u001b[0m                                Traceback (most recent call last)",
      "\u001b[1;32m<ipython-input-1-25a4687a19ff>\u001b[0m in \u001b[0;36m<module>\u001b[1;34m\u001b[0m\n\u001b[0;32m     18\u001b[0m \u001b[0mw0\u001b[0m \u001b[1;33m=\u001b[0m \u001b[0mparameter\u001b[0m\u001b[1;33m[\u001b[0m\u001b[1;36m8\u001b[0m\u001b[1;33m]\u001b[0m\u001b[1;33m\u001b[0m\u001b[1;33m\u001b[0m\u001b[0m\n\u001b[0;32m     19\u001b[0m \u001b[0mp\u001b[0m \u001b[1;33m=\u001b[0m \u001b[0mparameter\u001b[0m\u001b[1;33m[\u001b[0m\u001b[1;36m9\u001b[0m\u001b[1;33m]\u001b[0m\u001b[1;33m\u001b[0m\u001b[1;33m\u001b[0m\u001b[0m\n\u001b[1;32m---> 20\u001b[1;33m \u001b[0mn2\u001b[0m \u001b[1;33m=\u001b[0m \u001b[0mparameter\u001b[0m\u001b[1;33m[\u001b[0m\u001b[1;36m10\u001b[0m\u001b[1;33m]\u001b[0m\u001b[1;33m\u001b[0m\u001b[1;33m\u001b[0m\u001b[0m\n\u001b[0m\u001b[0;32m     21\u001b[0m \u001b[1;33m\u001b[0m\u001b[0m\n\u001b[0;32m     22\u001b[0m \u001b[1;31m#Numerical solution\u001b[0m\u001b[1;33m\u001b[0m\u001b[1;33m\u001b[0m\u001b[1;33m\u001b[0m\u001b[0m\n",
      "\u001b[1;31mIndexError\u001b[0m: index 10 is out of bounds for axis 0 with size 10"
     ]
    }
   ],
   "source": [
    "%matplotlib inline\n",
    "import numpy as np\n",
    "import matplotlib.pyplot as plt\n",
    "from matplotlib import cm\n",
    "from mpl_toolkits.mplot3d import Axes3D\n",
    "\n",
    "\n",
    "#Import parameters from python\n",
    "parameter = np.loadtxt(\"../results/Linear/parameter_linear.txt\")\n",
    "Pcr = parameter[0]\n",
    "k = parameter[1]\n",
    "K = parameter[2]\n",
    "L = parameter[3]\n",
    "N = int(parameter[4])\n",
    "Lz = parameter[5]\n",
    "Nz = int(parameter[6])\n",
    "nb_save = int(parameter[7])\n",
    "w0 = parameter[8]\n",
    "p = parameter[9]\n",
    "n2 = parameter[10]\n",
    "\n",
    "#Numerical solution\n",
    "inten_num = np.loadtxt(\"../results/Linear/intensity_linear.txt\")\n",
    "nb_pics = int((inten_num.shape[0]*inten_num.shape[1])/(2*N)**2)\n",
    "inten_num = inten_num.reshape((nb_pics, 2*N, 2*N))\n",
    "\n",
    "energy = np.loadtxt(\"../results/Linear/energy_linear.txt\")"
   ]
  },
  {
   "cell_type": "code",
   "execution_count": null,
   "metadata": {},
   "outputs": [],
   "source": [
    "print('Information about the experiment:')\n",
    "print('Initial condition: ')\n",
    "print('Wave number: ',np.round(k,2))\n",
    "print('Multiphoton constant: ',K)\n",
    "print('Spot size: ',w0)\n",
    "print('Normalised Pcr: ',Pcr)\n",
    "print('Pin/Pcr: ',p)\n",
    "print('Box parameters:')\n",
    "print('Length of box: ',L)\n",
    "print('Number of point in x and y: ',2*N)\n",
    "print('Length of evolution: ',Lz)\n",
    "print('Number of point z: ',Nz)"
   ]
  },
  {
   "cell_type": "code",
   "execution_count": null,
   "metadata": {},
   "outputs": [],
   "source": [
    "#spacial discretization along x and y, need to be the same as production codes\n",
    "r, d = np.linspace(-L, L, 2*N, retstep=True) \n",
    "x, y = np.meshgrid(r,r)\n",
    "\n",
    "#Zoom the figure in matplotlib\n",
    "import matplotlib as mpl\n",
    "mpl.rcParams['figure.figsize'] = (10,8)\n",
    "mpl.rcParams['font.size'] = 15\n",
    "mpl.rcParams['axes.labelsize'] = 'x-large'\n",
    "mpl.rcParams['lines.linewidth'] = 2.5\n",
    "mpl.rcParams['lines.markersize'] = 10.0\n",
    "\n",
    "#Analytic solution\n",
    "Pin = p*Pcr\n",
    "E0 = (2*Pin/(np.pi*w0**2))**(1/2)\n",
    "w = lambda z : w0*(1 + (2*z/(k*w0**2))**2)**(1/2)\n",
    "square = np.vectorize(lambda x,y : x**2+y**2 )\n",
    "xy2 = square(x,y)\n",
    "inten_analy = lambda z : (E0*w0/w(z)*np.exp(-xy2/w(z)**2))**2\n",
    "\n",
    "\n",
    "#Plot 3D comparison between numerical and analytical solution at arbitary z\n",
    "axes = []\n",
    "fig = plt.figure(figsize=plt.figaspect(0.5))\n",
    "\n",
    "z = 0.8\n",
    "pic = int(z*Nz/(nb_save*Lz))\n",
    "title = 'Numerical intensity of laser at z = ' + str(z)\n",
    "ax = fig.add_subplot(121,projection='3d')\n",
    "ax.title.set_text(title)\n",
    "ax.set_zlim(0, 0.8)\n",
    "ax.set_xlabel('$x$')\n",
    "ax.set_ylabel('$y$')\n",
    "axes.append(ax)\n",
    "surf = ax.plot_surface(x,y,inten_num[pic],cmap=cm.coolwarm, linewidth=0, antialiased=False)\n",
    "\n",
    "title = 'Analytical intensity of laser at z = ' + str(z)\n",
    "ax = fig.add_subplot(122,projection='3d')\n",
    "ax.title.set_text(title)\n",
    "ax.set_zlim(0, 0.8)\n",
    "ax.set_xlabel('$x$')\n",
    "ax.set_ylabel('$y$')\n",
    "axes.append(ax)\n",
    "surf = ax.plot_surface(x,y,inten_analy(Lz),cmap=cm.coolwarm, linewidth=0, antialiased=False)\n",
    "\n",
    "# Add a color bar which maps values to colors.\n",
    "fig.colorbar(surf, ax=axes,shrink=0.5, aspect=20)\n",
    "\n",
    "plt.show()\n",
    "\n",
    "# save figure as pdf\n",
    "#plt.savefig(\"../figures/observables.pdf\")"
   ]
  },
  {
   "cell_type": "code",
   "execution_count": null,
   "metadata": {},
   "outputs": [],
   "source": [
    "z_interested = np.array([0, 1, 2, 2.99])\n",
    "pos_interested = z_interested*Nz/(nb_save*Lz)\n",
    "pos_interested = pos_interested.astype(int)\n",
    "\n",
    "fig = plt.figure(figsize=(12, 20))\n",
    "axes = []\n",
    "ax = fig.add_subplot(111,projection='3d')\n",
    "ax.set_title('Propagation of laser along z-axis')\n",
    "\n",
    "for i in range(len(z_interested)):\n",
    "    surf = ax.plot_surface(x,y,inten_num[pos_interested[i]]+1.5*i,cmap=cm.coolwarm, linewidth=0, antialiased=False)\n",
    "    ax.text(0.001, 0.0015,1.5*i+0.2 ,\"z = %.2f m \"%z_interested[i], None)\n",
    "    axes.append(ax)\n",
    "ax.set_xlabel('$x$')\n",
    "ax.set_ylabel('$y$')\n",
    "ax.set_zlim(0, 4 )\n",
    "ax.view_init(10, -60)\n",
    "plt.show()\n"
   ]
  },
  {
   "cell_type": "code",
   "execution_count": null,
   "metadata": {
    "scrolled": false
   },
   "outputs": [],
   "source": [
    "z_interested = np.array([0, 1, 2, 2.99])\n",
    "pos_interested = z_interested*Nz/(nb_save*Lz)\n",
    "pos_interested = pos_interested.astype(int)\n",
    "\n",
    "fig, ax = plt.subplots()\n",
    "    mesh = ax.pcolormesh(x, y, np.abs((inten_num[i] - inten_analy(z))/inten_analy(z)))\n",
    "    ax.set_xlabel('x')\n",
    "    ax.set_ylabel('y')\n",
    "    plt.colorbar(mesh, ax=ax)\n",
    "    #plt.xlim(-0.1*L,0.1*L)\n",
    "    #plt.ylim(-0.1*L,0.1*L)\n",
    "    fig.show()\n",
    "    # save figure as pdf\n",
    "    "
   ]
  },
  {
   "cell_type": "markdown",
   "metadata": {},
   "source": [
    "## Propagation "
   ]
  },
  {
   "cell_type": "code",
   "execution_count": null,
   "metadata": {},
   "outputs": [],
   "source": [
    "z_interested = np.array([0, 1, 2, 2.99])\n",
    "pos_interested = z_interested*Nz/(nb_save*Lz)\n",
    "pos_interested = pos_interested.astype(int)\n",
    "\n",
    "fig = plt.figure(figsize=(12, 20))\n",
    "axes = []\n",
    "ax = fig.add_subplot(111,projection='3d')\n",
    "ax.set_title('Propagation of laser along z-axis')\n",
    "\n",
    "for i in range(len(z_interested)):\n",
    "    surf = ax.plot_surface(x,y,inten_num[pos_interested[i]]+1.5*i,cmap=cm.coolwarm, linewidth=0, antialiased=False)\n",
    "    ax.text(0.001, 0.0015,1.5*i+0.2 ,\"z = %.2f m \"%z_interested[i], None)\n",
    "    axes.append(ax)\n",
    "ax.set_xlabel('$x$')\n",
    "ax.set_ylabel('$y$')\n",
    "ax.set_zlim(0, 4 )\n",
    "ax.view_init(10, -60)\n",
    "plt.show()\n"
   ]
  },
  {
   "cell_type": "markdown",
   "metadata": {},
   "source": [
    "## Observe the conservation of energy of the laser and the variation of intensity along z-axis"
   ]
  },
  {
   "cell_type": "markdown",
   "metadata": {},
   "source": [
    "In the propagation, energy must be conserved and the maximum intensity must follow the equation below:\n",
    "\\begin{equation}\n",
    "\\frac{\\left|E(z)_{max}\\right|^2}{\\left|E(0)_{max}\\right|^2} = \\left(\\frac{w_0}{w(z)}\\right)^2\n",
    "\\end{equation}"
   ]
  },
  {
   "cell_type": "code",
   "execution_count": null,
   "metadata": {},
   "outputs": [],
   "source": [
    "z = np.linspace(0, Lz, inten_num.shape[0])\n",
    "z_e = np.linspace(0, Lz, energy.shape[0])\n",
    "Inten_max = []\n",
    "for inten in inten_num:\n",
    "    Inten_max.append(np.max(inten))\n",
    "Energ = energy\n",
    "Inten_max = np.asarray(Inten_max)\n",
    "\n",
    "pos = z*Nz/(Lz*nb_save)\n",
    "pos = pos.astype(int)\n",
    "\n",
    "plt.plot(z_e, Energ/Energ[0], 'r', label='Normalised energy calculated numerically')\n",
    "plt.plot(z, Inten_max/Inten_max[0], 'k', label='maximum numerical normalised intensity in xy plane')\n",
    "#the intensity is maximum at x=y=0\n",
    "plt.plot(z, (w0/w(z))**2, 'c--', label='maximum analytical normalised intensity in xy plane')\n",
    "\n",
    "plt.legend(loc='upper center', shadow=True, fontsize='medium')\n",
    "plt.ylim(0.3,1.3)\n",
    "\n",
    "plt.show()\n",
    "#plt.savefig(\"../figures/observables.pdf\")\n"
   ]
  },
  {
   "cell_type": "markdown",
   "metadata": {},
   "source": []
  }
 ],
 "metadata": {
  "kernelspec": {
   "display_name": "Python 3",
   "language": "python",
   "name": "python3"
  },
  "language_info": {
   "codemirror_mode": {
    "name": "ipython",
    "version": 3
   },
   "file_extension": ".py",
   "mimetype": "text/x-python",
   "name": "python",
   "nbconvert_exporter": "python",
   "pygments_lexer": "ipython3",
   "version": "3.7.3"
  }
 },
 "nbformat": 4,
 "nbformat_minor": 2
}
