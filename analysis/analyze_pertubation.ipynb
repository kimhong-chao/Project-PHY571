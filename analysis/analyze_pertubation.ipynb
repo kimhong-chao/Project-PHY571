{
 "cells": [
  {
   "cell_type": "markdown",
   "metadata": {},
   "source": [
    "# Observation of pertubation\n",
    "\n",
    "The physical model used to describe this effect :\n",
    "\n",
    "\\begin{equation}\n",
    "    \\frac{\\partial E}{\\partial z} = \\frac{i}{2k}\\nabla^2_{\\bot}E - \\frac{\\sigma}{2}(1 + i\\omega\\tau)\\rho E - \\frac{\\beta^K}{2}\\left|E\\right|^{2K-2}E + i\\frac{\\omega}{c}(1-f)n_{2}\\left|E\\right|^2E\n",
    "\\end{equation}\n",
    "\n",
    "We consider all the effects at the same time to see what happens to the laser:\n",
    "\n"
   ]
  },
  {
   "cell_type": "code",
   "execution_count": 1,
   "metadata": {},
   "outputs": [],
   "source": [
    "%matplotlib inline\n",
    "import numpy as np\n",
    "import matplotlib.pyplot as plt\n",
    "from matplotlib import cm\n",
    "from mpl_toolkits.mplot3d import Axes3D\n",
    "from matplotlib.ticker import LinearLocator, FormatStrFormatter"
   ]
  },
  {
   "cell_type": "code",
   "execution_count": 2,
   "metadata": {},
   "outputs": [],
   "source": [
    "#Import parameters from python\n",
    "parameter = np.loadtxt(\"../results/parameter_pertubation.txt\")\n",
    "Pcr = parameter[0]\n",
    "L = parameter[3]\n",
    "N = int(parameter[4])\n",
    "Lz = parameter[5]\n",
    "Nz = int(parameter[6])\n",
    "nb_save = int(parameter[7])\n",
    "\n",
    "#Numerical solution\n",
    "inten_num = np.loadtxt(\"../results/intensity_pertubation.txt\")\n",
    "nb_pics = int((inten_num.shape[0]*inten_num.shape[1])/(2*N)**2)\n",
    "inten_num = inten_num.reshape((nb_pics, 2*N, 2*N))\n",
    "\n",
    "energy = np.loadtxt(\"../results/energy_pertubation.txt\")"
   ]
  },
  {
   "cell_type": "code",
   "execution_count": 3,
   "metadata": {},
   "outputs": [
    {
     "name": "stdout",
     "output_type": "stream",
     "text": [
      "0.008 128 3.0 9000 50\n"
     ]
    }
   ],
   "source": [
    "print(L, N, Lz, Nz, nb_save)"
   ]
  },
  {
   "cell_type": "code",
   "execution_count": 6,
   "metadata": {
    "scrolled": false
   },
   "outputs": [
    {
     "name": "stderr",
     "output_type": "stream",
     "text": [
      "No handles with labels found to put in legend.\n",
      "C:\\Users\\pc\\Anaconda3\\lib\\site-packages\\ipykernel_launcher.py:17: UserWarning: Matplotlib is currently using module://ipykernel.pylab.backend_inline, which is a non-GUI backend, so cannot show the figure.\n"
     ]
    },
    {
     "data": {
      "image/png": "[encoded data removed]",
      "text/plain": [
       "<Figure size 432x288 with 1 Axes>"
      ]
     },
     "metadata": {
      "needs_background": "light"
     },
     "output_type": "display_data"
    }
   ],
   "source": [
    "#Energy maximum of laser along z\n",
    "list_e = []\n",
    "num_point = inten_num.shape[0]\n",
    "for i in range(num_point):\n",
    "    list_e.append(np.max(inten_num[i]))\n",
    "screen = np.linspace(0, Lz, inten_num.shape[0])\n",
    "list_e = np.asarray(list_e)\n",
    "\n",
    "Pcr_const = np.zeros(Nz) + Pcr\n",
    "fig, ax = plt.subplots()\n",
    "ax.plot(screen, list_e)\n",
    "#ax.plot(screen, Pcr_const)\n",
    "ax.set_xlabel('Lz')\n",
    "ax.set_ylabel('I')\n",
    "ax.legend()\n",
    "#plt.xlim(0.007, 0.009)\n",
    "fig.show()"
   ]
  },
  {
   "cell_type": "code",
   "execution_count": 8,
   "metadata": {},
   "outputs": [
    {
     "name": "stderr",
     "output_type": "stream",
     "text": [
      "No handles with labels found to put in legend.\n",
      "C:\\Users\\pc\\Anaconda3\\lib\\site-packages\\ipykernel_launcher.py:11: UserWarning: Matplotlib is currently using module://ipykernel.pylab.backend_inline, which is a non-GUI backend, so cannot show the figure.\n",
      "  # This is added back by InteractiveShellApp.init_path()\n"
     ]
    },
    {
     "data": {
      "image/png": "[encoded data removed]",
      "text/plain": [
       "<Figure size 432x288 with 1 Axes>"
      ]
     },
     "metadata": {
      "needs_background": "light"
     },
     "output_type": "display_data"
    }
   ],
   "source": [
    "#Total energy of laser along z\n",
    "\n",
    "screen = np.linspace(0, Lz, Nz)\n",
    "fig, ax = plt.subplots()\n",
    "ax.plot(screen, energy)\n",
    "#ax.plot(screen, Pcr_const)\n",
    "ax.set_xlabel('Lz')\n",
    "ax.set_ylabel('Energy')\n",
    "ax.legend()\n",
    "#plt.xlim(0.007, 0.009)\n",
    "fig.show()"
   ]
  },
  {
   "cell_type": "code",
   "execution_count": 9,
   "metadata": {},
   "outputs": [
    {
     "name": "stdout",
     "output_type": "stream",
     "text": [
      "[2921.94792969 2921.96969121 2921.99145396 ... 1899.38697115 1899.38703912\n",
      " 1899.38710703]\n"
     ]
    }
   ],
   "source": [
    "print(energy)"
   ]
  },
  {
   "cell_type": "code",
   "execution_count": null,
   "metadata": {
    "scrolled": false
   },
   "outputs": [],
   "source": [
    "r, d = np.linspace(-L, L, 2*N, retstep=True) \n",
    "x, y = np.meshgrid(r,r)\n",
    "for i in range(inten_num.shape[0]):\n",
    "    if (i%10 == 0):\n",
    "        fig, ax = plt.subplots()\n",
    "        mesh = ax.pcolormesh(x, y, inten_num[i])\n",
    "        ax.set_xlabel('x')\n",
    "        ax.set_ylabel('y')\n",
    "        plt.colorbar(mesh, ax=ax)\n",
    "        plt.xlim(-0.001,0.001)\n",
    "        plt.ylim(-0.001,0.001)\n",
    "        fig.show()"
   ]
  },
  {
   "cell_type": "code",
   "execution_count": null,
   "metadata": {
    "scrolled": false
   },
   "outputs": [],
   "source": [
    "z_interested = np.array([0, 1.5])\n",
    "pos_interested = z_interested*nb_save/Lz\n",
    "pos_interested = pos_interested.astype(int)\n",
    "\n",
    "fig = plt.figure(figsize=(12, 20))\n",
    "axes = []\n",
    "ax = fig.add_subplot(111,projection='3d')\n",
    "ax.set_title('Propagation of laser along z-axis')\n",
    "\n",
    "for i in range(len(z_interested)):\n",
    "    surf = ax.plot_surface(x,y,inten_num[pos_interested[i]]+5*i,cmap=cm.coolwarm, linewidth=0, antialiased=False)\n",
    "    ax.text(0.001, 0.0015,1.5*i+0.2 ,\"z = %.2f m \"%z_interested[i], None)\n",
    "    axes.append(ax)\n",
    "ax.set_xlabel('$x$')\n",
    "ax.set_ylabel('$y$')\n",
    "#ax.set_zlim(0, 4 )\n",
    "ax.view_init(10, -60)\n",
    "plt.show()\n"
   ]
  },
  {
   "cell_type": "code",
   "execution_count": null,
   "metadata": {},
   "outputs": [],
   "source": [
    "print(inten_num.shape)"
   ]
  },
  {
   "cell_type": "code",
   "execution_count": null,
   "metadata": {},
   "outputs": [],
   "source": [
    "\n",
    "\n",
    "fig = plt.figure(figsize=(12, 20))\n",
    "axes = []\n",
    "ax = fig.add_subplot(111,projection='3d')\n",
    "ax.set_title('Propagation of laser along z-axis')\n",
    "\n",
    "\n",
    "surf = ax.plot_surface(x,y,inten_num[899],cmap=cm.coolwarm, linewidth=0, antialiased=False)\n",
    "#ax.text(0.001, 0.0015,1.5*i+0.2 ,\"z = %.2f m \"%z_interested[i], None)\n",
    "axes.append(ax)\n",
    "ax.set_xlabel('$x$')\n",
    "ax.set_ylabel('$y$')\n",
    "ax.set_xlim(-0.003, 0.003 )\n",
    "ax.set_ylim(-0.003, 0.003)\n",
    "ax.view_init(10, -60)\n",
    "plt.show()\n"
   ]
  },
  {
   "cell_type": "code",
   "execution_count": null,
   "metadata": {},
   "outputs": [],
   "source": []
  }
 ],
 "metadata": {
  "kernelspec": {
   "display_name": "Python 3",
   "language": "python",
   "name": "python3"
  },
  "language_info": {
   "codemirror_mode": {
    "name": "ipython",
    "version": 3
   },
   "file_extension": ".py",
   "mimetype": "text/x-python",
   "name": "python",
   "nbconvert_exporter": "python",
   "pygments_lexer": "ipython3",
   "version": "3.7.3"
  }
 },
 "nbformat": 4,
 "nbformat_minor": 2
}
