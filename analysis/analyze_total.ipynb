{
 "cells": [
  {
   "cell_type": "markdown",
   "metadata": {},
   "source": [
    "# Observation of all the effects \n",
    "\n",
    "The physical model used to describe this effect :\n",
    "\n",
    "\\begin{equation}\n",
    "    \\frac{\\partial E}{\\partial z} = \\frac{i}{2k}\\nabla^2_{\\bot}E - \\frac{\\sigma}{2}(1 + i\\omega\\tau)\\rho E - \\frac{\\beta^K}{2}\\left|E\\right|^{2K-2}E + i\\frac{\\omega}{c}(1-f)n_{2}\\left|E\\right|^2E\n",
    "\\end{equation}\n",
    "\n",
    "We consider all the effects at the same time to see what happens to the laser:\n",
    "\n"
   ]
  },
  {
   "cell_type": "code",
   "execution_count": 1,
   "metadata": {},
   "outputs": [],
   "source": [
    "%matplotlib inline\n",
    "import numpy as np\n",
    "import matplotlib.pyplot as plt\n",
    "from matplotlib import cm\n",
    "from mpl_toolkits.mplot3d import Axes3D\n",
    "from matplotlib.ticker import LinearLocator, FormatStrFormatter"
   ]
  },
  {
   "cell_type": "code",
   "execution_count": null,
   "metadata": {},
   "outputs": [],
   "source": [
    "#Import parameters from python\n",
    "parameter = np.loadtxt(\"../results/parameter_total.txt\")\n",
    "L = parameter[3]\n",
    "N = int(parameter[4])\n",
    "Lz = parameter[5]\n",
    "Nz = int(parameter[6])\n",
    "nb_save = int(parameter[7])\n",
    "\n",
    "#Numerical solution\n",
    "inten_num = np.loadtxt(\"../results/intensity_total.txt\")\n",
    "nb_pics = int((inten_num.shape[0]*inten_num.shape[1])/(2*N)**2)\n",
    "inten_num = inten_num.reshape((nb_pics, 2*N, 2*N))"
   ]
  },
  {
   "cell_type": "code",
   "execution_count": null,
   "metadata": {},
   "outputs": [],
   "source": [
    "print(L, N, Lz, Nz, nb_save)"
   ]
  },
  {
   "cell_type": "code",
   "execution_count": null,
   "metadata": {
    "scrolled": false
   },
   "outputs": [],
   "source": [
    "#Energy of the center of laser along z\n",
    "list_e = []\n",
    "num_point = inten_num.shape[0]\n",
    "for i in range(num_point):\n",
    "    list_e.append(np.max(inten_num[i]))\n",
    "screen = np.linspace(0, Lz, inten_num.shape[0])\n",
    "list_e = np.asarray(list_e)\n",
    "\n",
    "fig, ax = plt.subplots()\n",
    "ax.plot(screen, list_e)\n",
    "ax.set_xlabel('Lz')\n",
    "ax.set_ylabel('I')\n",
    "ax.legend()\n",
    "#plt.xlim(0.007, 0.009)\n",
    "fig.show()"
   ]
  },
  {
   "cell_type": "code",
   "execution_count": null,
   "metadata": {
    "scrolled": false
   },
   "outputs": [],
   "source": [
    "x = np.linspace(-L,L,2*N)\n",
    "y = np.linspace(-L,L,2*N)\n",
    "for i in range(inten_num.shape[0]):\n",
    "    if (i%10 == 0):\n",
    "        fig, ax = plt.subplots()\n",
    "        mesh = ax.pcolormesh(x, y, inten_num[i])\n",
    "        ax.set_xlabel('x')\n",
    "        ax.set_ylabel('y')\n",
    "        plt.colorbar(mesh, ax=ax)\n",
    "        #plt.xlim(-0.01,0.01)\n",
    "        #plt.ylim(-0.01,0.01)\n",
    "        fig.show()"
   ]
  },
  {
   "cell_type": "code",
   "execution_count": null,
   "metadata": {
    "scrolled": false
   },
   "outputs": [],
   "source": [
    "import matplotlib as mpl\n",
    "mpl.rcParams['figure.figsize'] = (10,8)\n",
    "mpl.rcParams['font.size'] = 15\n",
    "mpl.rcParams['axes.labelsize'] = 'x-large'\n",
    "mpl.rcParams['lines.linewidth'] = 2.5\n",
    "mpl.rcParams['lines.markersize'] = 10.0\n",
    "\n",
    "r, d = np.linspace(-L, L, 2*N, retstep=True) \n",
    "x, y = np.meshgrid(r,r)\n",
    "\n",
    "#3D comparison between numerical and analytical solution at arbitary z\n",
    "axes = []\n",
    "surfs = []\n",
    "fig = plt.figure(figsize=plt.figaspect(0.5))\n",
    "\n",
    "N = inten_num.shape[0]\n",
    "z = 10.0 \n",
    "pic = int((N-1)/Lz*z)\n",
    "\n",
    "ax = fig.add_subplot(121,projection='3d')\n",
    "title = 'Numerical intensity of laser at z = ' + str(z)\n",
    "ax.title.set_text(title)\n",
    "#ax.set_zlim(0, 0.8)\n",
    "#ax.set_xlim(-0.002, 0.002)\n",
    "#ax.set_ylim(-0.002, 0.002)\n",
    "ax.set_xlabel('$x$')\n",
    "ax.set_ylabel('$y$')\n",
    "axes.append(ax)\n",
    "surf = ax.plot_surface(x,y,inten_num[pic],cmap=cm.coolwarm, linewidth=0, antialiased=False)\n",
    "\n",
    "fig.colorbar(surf, ax=axes,shrink=0.5, aspect=20)\n",
    "\n",
    "plt.show()"
   ]
  },
  {
   "cell_type": "code",
   "execution_count": null,
   "metadata": {},
   "outputs": [],
   "source": [
    "print(inten_num.shape)"
   ]
  },
  {
   "cell_type": "code",
   "execution_count": null,
   "metadata": {},
   "outputs": [],
   "source": []
  }
 ],
 "metadata": {
  "kernelspec": {
   "display_name": "Python 3",
   "language": "python",
   "name": "python3"
  },
  "language_info": {
   "codemirror_mode": {
    "name": "ipython",
    "version": 3
   },
   "file_extension": ".py",
   "mimetype": "text/x-python",
   "name": "python",
   "nbconvert_exporter": "python",
   "pygments_lexer": "ipython3",
   "version": "3.7.3"
  }
 },
 "nbformat": 4,
 "nbformat_minor": 2
}
