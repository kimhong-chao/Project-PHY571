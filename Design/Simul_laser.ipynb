{
 "cells": [
  {
   "cell_type": "code",
   "execution_count": null,
   "metadata": {
    "collapsed": true
   },
   "outputs": [],
   "source": [
    "%matplotlib inline\n",
    "import numpy as np\n",
    "import matplotlib.pyplot as plt\n",
    "import scipy.linalg\n",
    "import math"
   ]
  },
  {
   "cell_type": "code",
   "execution_count": null,
   "metadata": {
    "collapsed": true
   },
   "outputs": [],
   "source": [
    "class Gaussian:\n",
    "    def __init__(self, width, amplitude, x0):\n",
    "        self.width = width\n",
    "        self.amplitude = amplitude\n",
    "        self.x0 = x0\n",
    "        \n",
    "    def __call__(self, x):\n",
    "        A = self.amplitude\n",
    "        x0 = self.x0\n",
    "        sigma = self.width\n",
    "        return A*np.exp(-((x[0]-x0[0])**2 + (x[1]-x0[1])**2)/sigma**2)"
   ]
  },
  {
   "cell_type": "code",
   "execution_count": null,
   "metadata": {
    "collapsed": true
   },
   "outputs": [],
   "source": [
    "class propagate:\n",
    "    def __init__(self, Lx, Nx, Ly, Ny, Lz, Nz, k, K, init_f, non_f):\n",
    "        self.Lx = Lx\n",
    "        self.Nx = Nx\n",
    "        self.Ly = Ly\n",
    "        self.Ny = Ny\n",
    "        self.Lz = Lz\n",
    "        self.Nz = Nz\n",
    "        self.k = k\n",
    "        self.K = K\n",
    "        self.non_f = non_f\n",
    "        \n",
    "        #We can reduce the code by using step parameter in linspace\n",
    "        \n",
    "        self.dz = Lz/Nz\n",
    "        self.dx = Lx/Nx\n",
    "        self.dy = Ly/Ny\n",
    "        self.matrix = np.zeros([Nz, 2*Nx, 2*Ny])\n",
    "        \n",
    "        kx = 2*np.pi*np.fft.fftfreq(2*Nx, d=self.dx)\n",
    "        ky = 2*np.pi*np.fft.fftfreq(2*Ny, d=self.dy)\n",
    "        self.kx = kx\n",
    "        self.ky = ky\n",
    "        kxy2 = np.zeros([2*Nx, 2*Ny])\n",
    "        \n",
    "        for i in range(2*Nx):\n",
    "            for j in range(2*Ny):\n",
    "                kxy2[i][j] = kx[i]**2 + ky[j]**2\n",
    "        self.kxy2 = kxy2\n",
    "                \n",
    "        self.x = np.linspace(-Lx, Lx, 2*Nx)\n",
    "        self.y = np.linspace(-Ly, Ly, 2*Ny)\n",
    "        E = np.zeros([2*Nx, 2*Ny])\n",
    "        \n",
    "        #intialisation\n",
    "        for i in range(2*Nx):\n",
    "            for j in range(2*Ny):\n",
    "                x0 =(2*Lx)/(2*Nx-1)*i -Lx\n",
    "                x1 =(2*Ly)/(2*Ny-1)*j -Ly\n",
    "                #x0 =(2*Lx)/(2*Nx-1)*i\n",
    "                #x1 =(2*Ly)/(2*Ny-1)*j\n",
    "                E[i][j] = init_f([x0, x1])\n",
    "        \n",
    "        self.E = E\n",
    "        self.matrix[0,:,:] = E\n",
    "        \n",
    "    def evolution(self):\n",
    "        list_z =[]\n",
    "        list_z1 = []\n",
    "        E = self.E*(1+1j*0)\n",
    "        list_z.append(np.abs(E)**2)\n",
    "        list_z1.append(E)\n",
    "        \n",
    "        for l in range(Nz-1):\n",
    "            '''\n",
    "            #solve for non-linear\n",
    "            c = np.exp(1j*self.non_f(E)*self.dz)*E\n",
    "            c = np.fft.fft2(c)\n",
    "            c *= np.exp(-1j/(2*self.k)*(self.kxy2)*self.dz)\n",
    "            E = np.fft.ifft2(c)\n",
    "            \n",
    "            '''\n",
    "            #Linear\n",
    "            Ek = np.fft.fft2(E)\n",
    "            Ek *= np.exp(-1j/(2*self.k)*(self.kxy2)*self.dz)\n",
    "            E = np.fft.ifft2(Ek)\n",
    "            #print(np.abs(E)/list_z[-1])\n",
    "        \n",
    "            #Non-linear\n",
    "            #print(non_f(E)*self.dz/E)\n",
    "            #if l == 0: E += non_f(E)*self.dz\n",
    "            #else: E += (3/2)*non_f(list_z1[-1])*self.dz - (1/2)*non_f(list_z1[-2])*self.dz\n",
    "            #E += non_f(E)*self.dz\n",
    "            \n",
    "            #Putting into list\n",
    "            list_z.append(np.abs(E)**2)\n",
    "            list_z1.append(E)\n",
    "        \n",
    "        list_z = np.asarray(list_z)\n",
    "        list_z1 = np.asarray(list_z1)\n",
    "        self.matrix = list_z\n",
    "        self.matrix2 = list_z1\n",
    "        "
   ]
  },
  {
   "cell_type": "code",
   "execution_count": null,
   "metadata": {
    "collapsed": true
   },
   "outputs": [],
   "source": [
    "cross = 5.1*1e-24\n",
    "light = 3*1e8\n",
    "lamb = 790*1e-9\n",
    "omega = 2*np.pi*light/lamb\n",
    "tau = 3.5*1e-13\n",
    "beta = 6.5*1e-104\n",
    "hbar = 6.62*1e-34\n",
    "tp = 200*1e-15\n",
    "f = 1/2\n",
    "n2 = 5.57*1e-23\n",
    "k = 2*np.pi/lamb\n",
    "K = 7\n",
    "\n",
    "const1 = -cross/2*(1 + omega*tau)*beta/(K*hbar*omega)*tp/(8*K)**(1/2)\n",
    "const2 = -beta/2\n",
    "const3 = 1j*omega/light*(1-f)*n2\n",
    "\n",
    "def non_f(E):\n",
    "    const1 = -cross/2*(1 + omega*tau)*beta/(K*hbar*omega)*tp/(8*K)**(1/2)\n",
    "    const2 = -beta/2\n",
    "    const3 = 1j*omega/light*(1-f)*n2\n",
    "    return const1*E*np.abs(E)**(2*K) + const2*E*np.abs(E)**(2*K - 2) + const3*E*np.abs(E)**2\n"
   ]
  },
  {
   "cell_type": "code",
   "execution_count": null,
   "metadata": {},
   "outputs": [],
   "source": [
    "w0 = 0.7*1e-3\n",
    "Pcr = 2*1e9\n",
    "p = 4\n",
    "Pin = p*Pcr\n",
    "AMP = (2*Pin/(math.pi*w0**2))**(1/2)\n",
    "x0 = [0., 0.]\n",
    "\n",
    "gauss = Gaussian(w0, AMP, x0)\n",
    "\n",
    "Lx = 1600*1e-6\n",
    "Nx = 100\n",
    "Ly = 1600*1e-6\n",
    "Ny = 100\n",
    "Lz = 1.4\n",
    "Nz = 512\n",
    "\n",
    "init_f = gauss\n",
    "\n",
    "laser = propagate(Lx, Nx, Ly, Ny, Lz, Nz, k, K, init_f, non_f)\n",
    "laser.evolution()\n",
    "\n",
    "#for i in range(25):\n",
    "#    fig, ax = plt.subplots()\n",
    "#    mesh = ax.pcolormesh(Pro.x, Pro.y, Pro.matrix[i*10])\n",
    "#    ax.set_xlabel('x')\n",
    "#    ax.set_ylabel('y')\n",
    "#    plt.colorbar(mesh, ax=ax)\n",
    "#    fig.show()\n",
    "\n",
    "for i in [0, 219, 303, Nz-1]:\n",
    "    fig, ax = plt.subplots()\n",
    "    mesh = ax.pcolormesh(laser.x, laser.y, laser.matrix[i])\n",
    "    ax.set_xlabel('x')\n",
    "    ax.set_ylabel('y')\n",
    "    plt.colorbar(mesh, ax=ax)\n",
    "    fig.show()"
   ]
  },
  {
   "cell_type": "code",
   "execution_count": null,
   "metadata": {
    "scrolled": false
   },
   "outputs": [],
   "source": [
    "E = laser.matrix2[0]\n",
    "fig, ax = plt.subplots()\n",
    "mesh = ax.pcolormesh(laser.x, laser.y, np.abs(E))\n",
    "ax.set_xlabel('x')\n",
    "ax.set_ylabel('y')\n",
    "plt.colorbar(mesh, ax=ax)\n",
    "fig.show()\n",
    "\n",
    "#print(laser.kx)\n",
    "#print(laser.ky)\n",
    "\n",
    "Ek = np.fft.fft2(E)\n",
    "fig, ax = plt.subplots()\n",
    "mesh = ax.pcolormesh(laser.kx,laser.ky, np.abs(Ek))\n",
    "ax.set_xlabel('kx')\n",
    "ax.set_ylabel('ky')\n",
    "plt.colorbar(mesh, ax=ax)\n",
    "#plt.colorbar?\n",
    "fig.show()\n",
    "\n",
    "#print(Ek.real)\n",
    "#print(np.mean(Ek.real))\n",
    "\n",
    "E2 = np.fft.ifft2(Ek)\n",
    "fig, ax = plt.subplots()\n",
    "mesh = ax.pcolormesh(laser.x, laser.y, np.abs(E2))\n",
    "ax.set_xlabel('x')\n",
    "ax.set_ylabel('y')\n",
    "plt.colorbar(mesh, ax=ax)\n",
    "fig.show()\n"
   ]
  },
  {
   "cell_type": "code",
   "execution_count": null,
   "metadata": {
    "scrolled": false
   },
   "outputs": [],
   "source": [
    "for i in range(10):\n",
    "    fig, ax = plt.subplots()\n",
    "    ax.plot(laser.kx, np.abs(Ek[i*10, :]))\n",
    "    ax.set_xlabel('kx [cm-1]')\n",
    "    ax.set_ylabel('amplitude')\n",
    "    ax.legend()\n",
    "    fig.show()"
   ]
  },
  {
   "cell_type": "code",
   "execution_count": null,
   "metadata": {},
   "outputs": [],
   "source": [
    "#Test fonction\n",
    "E0 = (2*Pin/(np.pi*w0**2))**(1/2)\n",
    "\n",
    "def w(z):\n",
    "    return w0*(1 + (2*z/(k*w0**2))**2)**(1/2)\n",
    "\n",
    "x = np.linspace(-Lx, Lx, 2*Nx)\n",
    "y = np.linspace(-Ly, Ly, 2*Ny)\n",
    "\n",
    "space_xy2 = np.zeros([2*Nx, 2*Ny])\n",
    "\n",
    "for i in range(2*Nx):\n",
    "    for j in range(2*Ny):\n",
    "        space_xy2[i][j] = x[i]**2 + y[j]**2\n",
    "\n",
    "def res_analytique(z):\n",
    "    return (E0*w0/w(z)*np.exp(-space_xy2/w(z)**2))**2\n",
    "\n",
    "print(w(Lz)/w0)\n",
    "\n",
    "fig, ax = plt.subplots()\n",
    "mesh = ax.pcolormesh(x, y, res_analytique(0))\n",
    "ax.set_xlabel('x')\n",
    "ax.set_ylabel('y')\n",
    "plt.colorbar(mesh, ax=ax)\n",
    "fig.show()\n",
    "\n",
    "fig, ax = plt.subplots()\n",
    "mesh = ax.pcolormesh(x, y, res_analytique(Lz))\n",
    "ax.set_xlabel('x')\n",
    "ax.set_ylabel('y')\n",
    "plt.colorbar(mesh, ax=ax)\n",
    "fig.show()"
   ]
  },
  {
   "cell_type": "code",
   "execution_count": null,
   "metadata": {},
   "outputs": [],
   "source": [
    "print(Lz)"
   ]
  },
  {
   "cell_type": "code",
   "execution_count": null,
   "metadata": {},
   "outputs": [],
   "source": [
    "print(laser.matrix[-1]/res_analytique(Lz))"
   ]
  },
  {
   "cell_type": "code",
   "execution_count": null,
   "metadata": {},
   "outputs": [],
   "source": [
    "print(res_analytique(Lz))"
   ]
  },
  {
   "cell_type": "code",
   "execution_count": null,
   "metadata": {
    "collapsed": true
   },
   "outputs": [],
   "source": []
  }
 ],
 "metadata": {
  "kernelspec": {
   "display_name": "Python 3",
   "language": "python",
   "name": "python3"
  },
  "language_info": {
   "codemirror_mode": {
    "name": "ipython",
    "version": 3
   },
   "file_extension": ".py",
   "mimetype": "text/x-python",
   "name": "python",
   "nbconvert_exporter": "python",
   "pygments_lexer": "ipython3",
   "version": "3.6.8"
  }
 },
 "nbformat": 4,
 "nbformat_minor": 2
}
