{
 "cells": [
  {
   "cell_type": "code",
   "execution_count": 1,
   "metadata": {
    "collapsed": true
   },
   "outputs": [],
   "source": [
    "%matplotlib inline\n",
    "import numpy as np\n",
    "import matplotlib.pyplot as plt\n",
    "import scipy.linalg\n",
    "import math"
   ]
  },
  {
   "cell_type": "code",
   "execution_count": 2,
   "metadata": {
    "collapsed": true
   },
   "outputs": [],
   "source": [
    "class Gaussian:\n",
    "    def __init__(self, width, amplitude, x0):\n",
    "        self.width = width\n",
    "        self.amplitude = amplitude\n",
    "        self.x0 = x0\n",
    "        \n",
    "    def __call__(self, x):\n",
    "        A = self.amplitude\n",
    "        x0 = self.x0\n",
    "        sigma = self.width\n",
    "        return A*np.exp(-((x[0]-x0[0])**2 + (x[1]-x0[1])**2)/sigma**2)"
   ]
  },
  {
   "cell_type": "code",
   "execution_count": 3,
   "metadata": {
    "collapsed": true
   },
   "outputs": [],
   "source": [
    "class propagate:\n",
    "    def __init__(self, Lx, Nx, Ly, Ny, Lz, Nz, k, K, init_f, non_f):\n",
    "        self.Lx = Lx\n",
    "        self.Nx = Nx\n",
    "        self.Ly = Ly\n",
    "        self.Ny = Ny\n",
    "        self.Lz = Lz\n",
    "        self.Nz = Nz\n",
    "        self.k = k\n",
    "        self.K = K\n",
    "        self.non_f = non_f\n",
    "        \n",
    "        #We can reduce the code by using step parameter in linspace\n",
    "        \n",
    "        self.dz = Lz/Nz\n",
    "        self.dx = Lx/Nx\n",
    "        self.dy = Ly/Ny\n",
    "        self.matrix = np.zeros([Nz, 2*Nx, 2*Ny])\n",
    "        \n",
    "        kx = 2*np.pi*np.fft.fftfreq(2*Nx, d=self.dx)\n",
    "        ky = 2*np.pi*np.fft.fftfreq(2*Ny, d=self.dy)\n",
    "        self.kx = kx\n",
    "        self.ky = ky\n",
    "        kxy2 = np.zeros([2*Nx, 2*Ny])\n",
    "        \n",
    "        for i in range(2*Nx):\n",
    "            for j in range(2*Ny):\n",
    "                kxy2[i][j] = kx[i]**2 + ky[j]**2\n",
    "        self.kxy2 = kxy2\n",
    "                \n",
    "        self.x = np.linspace(-Lx, Lx, 2*Nx)\n",
    "        self.y = np.linspace(-Ly, Ly, 2*Ny)\n",
    "        E = np.zeros([2*Nx, 2*Ny])\n",
    "        \n",
    "        #intialisation\n",
    "        for i in range(2*Nx):\n",
    "            for j in range(2*Ny):\n",
    "                x0 =(2*Lx)/(2*Nx-1)*i -Lx\n",
    "                x1 =(2*Ly)/(2*Ny-1)*j -Ly\n",
    "                #x0 =(2*Lx)/(2*Nx-1)*i\n",
    "                #x1 =(2*Ly)/(2*Ny-1)*j\n",
    "                E[i][j] = init_f([x0, x1])\n",
    "        \n",
    "        self.E = E\n",
    "        #self.matrix[0,:,:] = E\n",
    "        \n",
    "    def evolution(self):\n",
    "        list_z =[]\n",
    "        list_z1 = []\n",
    "        E = self.E*(1+1j*0)\n",
    "        list_z.append(np.abs(E)**2)\n",
    "        list_z1.append(E)\n",
    "        \n",
    "        for l in range(Nz-1):\n",
    "            '''\n",
    "            #solve for non-linear\n",
    "            c = np.exp(1j*self.non_f(E)*self.dz)*E\n",
    "            c = np.fft.fft2(c)\n",
    "            c *= np.exp(-1j/(2*self.k)*(self.kxy2)*self.dz)\n",
    "            E = np.fft.ifft2(c)\n",
    "            \n",
    "            '''\n",
    "            #Linear\n",
    "            Ek = np.fft.fft2(E)\n",
    "            Ek *= np.exp(-1j/(2*self.k)*(self.kxy2)*self.dz)\n",
    "            E = np.fft.ifft2(Ek)\n",
    "            #print(np.abs(E)/list_z[-1])\n",
    "        \n",
    "            #Non-linear\n",
    "            #print(non_f(E)*self.dz/E)\n",
    "            #if l == 0: E += non_f(E)*self.dz\n",
    "            #else: E += (3/2)*non_f(list_z1[-1])*self.dz - (1/2)*non_f(list_z1[-2])*self.dz\n",
    "            E += non_f(E)*self.dz\n",
    "            \n",
    "            #Putting into list\n",
    "            if (l % 100 == 0):\n",
    "                list_z.append(np.abs(E)**2)\n",
    "            \n",
    "        \n",
    "        list_z = np.asarray(list_z)\n",
    "        list_z1 = np.asarray(list_z1)\n",
    "        self.matrix = list_z\n",
    "        self.matrix2 = list_z1\n",
    "        "
   ]
  },
  {
   "cell_type": "code",
   "execution_count": 4,
   "metadata": {
    "collapsed": true
   },
   "outputs": [],
   "source": [
    "cross = 5.1*1e-24\n",
    "light = 3*1e8\n",
    "lamb = 775*1e-9\n",
    "omega = 2*np.pi*light/lamb\n",
    "tau = 3.5*1e-13\n",
    "beta = 6.5*1e-104\n",
    "hbar = 6.62*1e-34/np.pi\n",
    "tp = 85*1e-15\n",
    "f = 1/2\n",
    "#f = 0\n",
    "n2 = 5.57*1e-23\n",
    "k = 2*np.pi/lamb\n",
    "K = 7\n",
    "w0 = 0.7*1e-3\n",
    "\n",
    "const0 = -2j/(k*w0**2)\n",
    "const1 = -cross/2*(1 + 1j*omega*tau)*beta/(K*hbar*omega)*tp*(np.pi/8*K)**(1/2)\n",
    "const2 = -beta/2\n",
    "const3 = 1j*omega/light*(1-f)*n2\n",
    "\n",
    "#const1 = 0\n",
    "#const2 = 0\n",
    "#const3 = 0\n",
    "\n",
    "#normaliser\n",
    "#const1 = const1*(10**8)**(2*K)\n",
    "#const2 = const2*(10**8)**(2*K-2)\n",
    "#const3 = const3*(10**8)**2\n",
    "\n",
    "def non_f(E):\n",
    "    return const1*E*np.abs(E)**(2*K) + const2*E*np.abs(E)**(2*K - 2) + const3*E*np.abs(E)**2\n"
   ]
  },
  {
   "cell_type": "code",
   "execution_count": 5,
   "metadata": {},
   "outputs": [
    {
     "name": "stdout",
     "output_type": "stream",
     "text": [
      "(-0-0.5034493097804854j) (-6.510972309159261e-123-5.542597138810418e-120j) -3.25e-104 2.2578930426445346e-16j\n"
     ]
    }
   ],
   "source": [
    "print(const0, const1, const2, const3)"
   ]
  },
  {
   "cell_type": "code",
   "execution_count": 6,
   "metadata": {},
   "outputs": [
    {
     "name": "stdout",
     "output_type": "stream",
     "text": [
      "105087602.57299466\n"
     ]
    },
    {
     "name": "stderr",
     "output_type": "stream",
     "text": [
      "/usr/local/anaconda3-5.0.0/lib/python3.6/site-packages/ipykernel_launcher.py:31: RuntimeWarning: overflow encountered in power\n",
      "/usr/local/anaconda3-5.0.0/lib/python3.6/site-packages/ipykernel_launcher.py:73: RuntimeWarning: invalid value encountered in multiply\n"
     ]
    }
   ],
   "source": [
    "Pcr = 1.7*1e9\n",
    "p = 5\n",
    "Pin = p*Pcr\n",
    "AMP = (2*Pin/(math.pi*w0**2))**(1/2)\n",
    "x0 = [0., 0.]\n",
    "\n",
    "\n",
    "\n",
    "#normaliser\n",
    "#AMP = AMP*1e-8\n",
    "#AMP = 5\n",
    "print(AMP)\n",
    "gauss = Gaussian(w0, AMP, x0)\n",
    "\n",
    "Lx = 1600*1e-6\n",
    "Nx = 64\n",
    "Ly = 1600*1e-6\n",
    "Ny = 64\n",
    "Lz = 3\n",
    "Nz = 1000\n",
    "\n",
    "init_f = gauss\n",
    "\n",
    "laser = propagate(Lx, Nx, Ly, Ny, Lz, Nz, k, K, init_f, non_f)\n",
    "laser.evolution()\n",
    "\n",
    "#for i in range(25):\n",
    "#    fig, ax = plt.subplots()\n",
    "#    mesh = ax.pcolormesh(Pro.x, Pro.y, Pro.matrix[i*10])\n",
    "#    ax.set_xlabel('x')\n",
    "#    ax.set_ylabel('y')\n",
    "#    plt.colorbar(mesh, ax=ax)\n",
    "#    fig.show()\n",
    "\n"
   ]
  },
  {
   "cell_type": "code",
   "execution_count": 9,
   "metadata": {},
   "outputs": [
    {
     "name": "stderr",
     "output_type": "stream",
     "text": [
      "/usr/local/anaconda3-5.0.0/lib/python3.6/site-packages/matplotlib/axes/_axes.py:545: UserWarning: No labelled objects found. Use label='...' kwarg on individual plots.\n",
      "  warnings.warn(\"No labelled objects found. \"\n",
      "/usr/local/anaconda3-5.0.0/lib/python3.6/site-packages/matplotlib/figure.py:403: UserWarning: matplotlib is currently using a non-GUI backend, so cannot show the figure\n",
      "  \"matplotlib is currently using a non-GUI backend, \"\n"
     ]
    },
    {
     "data": {
      "image/png": "[encoded data removed]",
      "text/plain": [
       "<matplotlib.figure.Figure at 0x7f8ba004bba8>"
      ]
     },
     "metadata": {},
     "output_type": "display_data"
    }
   ],
   "source": [
    "listed_normed = []\n",
    "for i in range(laser.matrix.shape[0]):\n",
    "    listed_normed.append(np.max(laser.matrix[i].real))\n",
    "screen = np.linspace(0, Lz, laser.matrix.shape[0])\n",
    "listed_normed = np.asarray(listed_normed)\n",
    "\n",
    "fig, ax = plt.subplots()\n",
    "ax.plot(screen, listed_normed)\n",
    "ax.set_xlabel('Lz')\n",
    "ax.set_ylabel('E2')\n",
    "ax.legend()\n",
    "#plt.xlim(0.007, 0.009)\n",
    "fig.show()"
   ]
  },
  {
   "cell_type": "code",
   "execution_count": 10,
   "metadata": {
    "scrolled": false
   },
   "outputs": [
    {
     "name": "stdout",
     "output_type": "stream",
     "text": [
      "0\n",
      "2\n",
      "276\n"
     ]
    },
    {
     "name": "stderr",
     "output_type": "stream",
     "text": [
      "/usr/local/anaconda3-5.0.0/lib/python3.6/site-packages/matplotlib/figure.py:403: UserWarning: matplotlib is currently using a non-GUI backend, so cannot show the figure\n",
      "  \"matplotlib is currently using a non-GUI backend, \"\n"
     ]
    },
    {
     "ename": "IndexError",
     "evalue": "index 276 is out of bounds for axis 0 with size 11",
     "output_type": "error",
     "traceback": [
      "\u001b[0;31m---------------------------------------------------------------------------\u001b[0m",
      "\u001b[0;31mIndexError\u001b[0m                                Traceback (most recent call last)",
      "\u001b[0;32m<ipython-input-10-8522aa39bbfc>\u001b[0m in \u001b[0;36m<module>\u001b[0;34m()\u001b[0m\n\u001b[1;32m      3\u001b[0m     \u001b[0mpic\u001b[0m \u001b[0;34m=\u001b[0m \u001b[0mint\u001b[0m\u001b[0;34m(\u001b[0m\u001b[0mi\u001b[0m\u001b[0;34m/\u001b[0m\u001b[0mlaser\u001b[0m\u001b[0;34m.\u001b[0m\u001b[0mdz\u001b[0m\u001b[0;34m)\u001b[0m\u001b[0;34m\u001b[0m\u001b[0;34m\u001b[0m\u001b[0m\n\u001b[1;32m      4\u001b[0m     \u001b[0mprint\u001b[0m\u001b[0;34m(\u001b[0m\u001b[0mpic\u001b[0m\u001b[0;34m)\u001b[0m\u001b[0;34m\u001b[0m\u001b[0;34m\u001b[0m\u001b[0m\n\u001b[0;32m----> 5\u001b[0;31m     \u001b[0mmesh\u001b[0m \u001b[0;34m=\u001b[0m \u001b[0max\u001b[0m\u001b[0;34m.\u001b[0m\u001b[0mpcolormesh\u001b[0m\u001b[0;34m(\u001b[0m\u001b[0mlaser\u001b[0m\u001b[0;34m.\u001b[0m\u001b[0mx\u001b[0m\u001b[0;34m,\u001b[0m \u001b[0mlaser\u001b[0m\u001b[0;34m.\u001b[0m\u001b[0my\u001b[0m\u001b[0;34m,\u001b[0m \u001b[0mlaser\u001b[0m\u001b[0;34m.\u001b[0m\u001b[0mmatrix\u001b[0m\u001b[0;34m[\u001b[0m\u001b[0mpic\u001b[0m\u001b[0;34m]\u001b[0m\u001b[0;34m)\u001b[0m\u001b[0;34m\u001b[0m\u001b[0;34m\u001b[0m\u001b[0m\n\u001b[0m\u001b[1;32m      6\u001b[0m     \u001b[0max\u001b[0m\u001b[0;34m.\u001b[0m\u001b[0mset_xlabel\u001b[0m\u001b[0;34m(\u001b[0m\u001b[0;34m'x'\u001b[0m\u001b[0;34m)\u001b[0m\u001b[0;34m\u001b[0m\u001b[0;34m\u001b[0m\u001b[0m\n\u001b[1;32m      7\u001b[0m     \u001b[0max\u001b[0m\u001b[0;34m.\u001b[0m\u001b[0mset_ylabel\u001b[0m\u001b[0;34m(\u001b[0m\u001b[0;34m'y'\u001b[0m\u001b[0;34m)\u001b[0m\u001b[0;34m\u001b[0m\u001b[0;34m\u001b[0m\u001b[0m\n",
      "\u001b[0;31mIndexError\u001b[0m: index 276 is out of bounds for axis 0 with size 11"
     ]
    },
    {
     "data": {
      "image/png": "[encoded data removed]",
      "text/plain": [
       "<matplotlib.figure.Figure at 0x7f8ba00da048>"
      ]
     },
     "metadata": {},
     "output_type": "display_data"
    },
    {
     "data": {
      "image/png": "[encoded data removed]",
      "text/plain": [
       "<matplotlib.figure.Figure at 0x7f8b96fc1438>"
      ]
     },
     "metadata": {},
     "output_type": "display_data"
    },
    {
     "data": {
      "image/png": "[encoded data removed]",
      "text/plain": [
       "<matplotlib.figure.Figure at 0x7f8b96f15278>"
      ]
     },
     "metadata": {},
     "output_type": "display_data"
    }
   ],
   "source": [
    "for i in [0, 0.007, 0.83, Lz-0.1]:\n",
    "    fig, ax = plt.subplots()\n",
    "    pic = int(i/laser.dz)\n",
    "    print(pic)\n",
    "    mesh = ax.pcolormesh(laser.x, laser.y, laser.matrix[pic])\n",
    "    ax.set_xlabel('x')\n",
    "    ax.set_ylabel('y')\n",
    "    plt.colorbar(mesh, ax=ax)\n",
    "    fig.show()"
   ]
  },
  {
   "cell_type": "code",
   "execution_count": null,
   "metadata": {},
   "outputs": [],
   "source": [
    "list_e = []\n",
    "for i in range(Nz):\n",
    "    E = np.sum(laser.matrix[i])\n",
    "    list_e.append(E)\n",
    "list_e = np.asarray(list_e)\n",
    "norm = list_e[0]\n",
    "x = np.linspace(0, Lz, Nz)\n",
    "fig, ax = plt.subplots()\n",
    "ax.plot(x, list_e/norm, label = 'Energy conservation')\n",
    "ax.set_xlabel('z')\n",
    "ax.set_ylabel('Energy ratio')\n",
    "ax.legend()\n",
    "#plt.ylim(4.5, 5.5)\n",
    "fig.show()"
   ]
  },
  {
   "cell_type": "code",
   "execution_count": null,
   "metadata": {},
   "outputs": [],
   "source": [
    "print(np.sum(laser.matrix[i]))"
   ]
  },
  {
   "cell_type": "code",
   "execution_count": null,
   "metadata": {
    "scrolled": false
   },
   "outputs": [],
   "source": [
    "for p in range(10):\n",
    "    Pcr = 1.7*1e9\n",
    "    Pin = p*Pcr\n",
    "    AMP = (2*Pin/(math.pi*w0**2))**(1/2)\n",
    "    x0 = [0., 0.]\n",
    "\n",
    "\n",
    "\n",
    "    #normaliser\n",
    "    #AMP = AMP*1e-8\n",
    "    #AMP = 5\n",
    "    print(AMP)\n",
    "    gauss = Gaussian(w0, AMP, x0)\n",
    "\n",
    "    Lx = 1600*1e-6\n",
    "    Nx = 64\n",
    "    Ly = 1600*1e-6\n",
    "    Ny = 64\n",
    "    Lz = 3\n",
    "    Nz = 1000\n",
    "\n",
    "    init_f = gauss\n",
    "\n",
    "    laser = propagate(Lx, Nx, Ly, Ny, Lz, Nz, k, K, init_f, non_f)\n",
    "    laser.evolution()\n",
    "\n",
    "    listed_normed = []\n",
    "    for i in range(Nz):\n",
    "        listed_normed.append(np.max(laser.matrix[i].real))\n",
    "    screen = np.linspace(0, Lz, Nz)\n",
    "    listed_normed = np.asarray(listed_normed)\n",
    "\n",
    "    fig, ax = plt.subplots()\n",
    "    ax.plot(screen, listed_normed)\n",
    "    ax.set_xlabel('Lz')\n",
    "    ax.set_ylabel('E2')\n",
    "    ax.legend()\n",
    "    #plt.xlim(0.007, 0.009)\n",
    "    fig.show()\n",
    "    \n",
    "    print(p)"
   ]
  },
  {
   "cell_type": "code",
   "execution_count": null,
   "metadata": {
    "scrolled": false
   },
   "outputs": [],
   "source": [
    "for n in range(10):\n",
    "    Pcr = 1.7*1e9\n",
    "    Pin = 4*Pcr\n",
    "    AMP = (2*Pin/(math.pi*w0**2))**(1/2)\n",
    "    x0 = [0., 0.]\n",
    "\n",
    "\n",
    "\n",
    "    #normaliser\n",
    "    #AMP = AMP*1e-8\n",
    "    #AMP = 5\n",
    "    print(AMP)\n",
    "    gauss = Gaussian(w0, AMP, x0)\n",
    "\n",
    "    Lx = 1600*1e-6\n",
    "    Nx = 64\n",
    "    Ly = 1600*1e-6\n",
    "    Ny = 64\n",
    "    Lz = 2 + 0.2*n\n",
    "    Nz = int(500*Lz/2)\n",
    "\n",
    "    init_f = gauss\n",
    "\n",
    "    laser = propagate(Lx, Nx, Ly, Ny, Lz, Nz, k, K, init_f, non_f)\n",
    "    laser.evolution()\n",
    "\n",
    "    listed_normed = []\n",
    "    for i in range(Nz):\n",
    "        listed_normed.append(np.max(laser.matrix[i].real))\n",
    "    screen = np.linspace(0, Lz, Nz)\n",
    "    listed_normed = np.asarray(listed_normed)\n",
    "\n",
    "    fig, ax = plt.subplots()\n",
    "    ax.plot(screen, listed_normed)\n",
    "    ax.set_xlabel('Lz')\n",
    "    ax.set_ylabel('E2')\n",
    "    ax.legend()\n",
    "    #plt.xlim(0.007, 0.009)\n",
    "    fig.show()\n",
    "    \n",
    "    print(n)"
   ]
  },
  {
   "cell_type": "code",
   "execution_count": null,
   "metadata": {},
   "outputs": [],
   "source": [
    "Pcr = 1.7*1e9\n",
    "Pin = 4*Pcr\n",
    "AMP = (2*Pin/(math.pi*w0**2))**(1/2)\n",
    "x0 = [0., 0.]\n",
    "\n",
    "\n",
    "\n",
    "#normaliser\n",
    "#AMP = AMP*1e-8\n",
    "#AMP = 5\n",
    "print(AMP)\n",
    "gauss = Gaussian(w0, AMP, x0)\n",
    "\n",
    "Lx = 1600*1e-6\n",
    "Nx = 256\n",
    "Ly = 1600*1e-6\n",
    "Ny = 256\n",
    "Lz = 2 + 0.2*n\n",
    "Nz = int(512*Lz/2)\n",
    "\n",
    "init_f = gauss\n",
    "\n",
    "laser = propagate(Lx, Nx, Ly, Ny, Lz, Nz, k, K, init_f, non_f)\n",
    "laser.evolution()\n",
    "\n",
    "listed_normed = []\n",
    "for i in range(Nz):\n",
    "    listed_normed.append(np.max(laser.matrix[i].real))\n",
    "screen = np.linspace(0, Lz, Nz)\n",
    "listed_normed = np.asarray(listed_normed)\n",
    "\n",
    "fig, ax = plt.subplots()\n",
    "ax.plot(screen, listed_normed)\n",
    "ax.set_xlabel('Lz')\n",
    "ax.set_ylabel('E2')\n",
    "ax.legend()\n",
    "#plt.xlim(0.007, 0.009)\n",
    "fig.show()\n",
    "\n",
    "print(n)"
   ]
  }
 ],
 "metadata": {
  "kernelspec": {
   "display_name": "Python 3",
   "language": "python",
   "name": "python3"
  },
  "language_info": {
   "codemirror_mode": {
    "name": "ipython",
    "version": 3
   },
   "file_extension": ".py",
   "mimetype": "text/x-python",
   "name": "python",
   "nbconvert_exporter": "python",
   "pygments_lexer": "ipython3",
   "version": "3.6.8"
  }
 },
 "nbformat": 4,
 "nbformat_minor": 2
}
